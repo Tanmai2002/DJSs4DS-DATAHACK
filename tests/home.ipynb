{
 "cells": [
  {
   "cell_type": "code",
   "execution_count": 8,
   "metadata": {},
   "outputs": [],
   "source": [
    "\n",
    "import streamlit as st\n",
    "import snowflake.connector"
   ]
  },
  {
   "cell_type": "code",
   "execution_count": 11,
   "metadata": {},
   "outputs": [
    {
     "name": "stderr",
     "output_type": "stream",
     "text": [
      "2023-04-01 14:56:12.443 Snowflake Connector for Python Version: 3.0.2, Python Version: 3.7.4, Platform: Windows-10-10.0.22621-SP0\n",
      "2023-04-01 14:56:12.444 This connection is in OCSP Fail Open Mode. TLS Certificates would be checked for validity and revocation status. Any other Certificate Revocation related exceptions or OCSP Responder failures would be disregarded in favor of connectivity.\n",
      "2023-04-01 14:56:13.237 No runtime found, using MemoryCacheStorageManager\n",
      "2023-04-01 14:56:13.238 query: [SELECT * from mytable;]\n",
      "2023-04-01 14:56:13.388 query execution done\n",
      "2023-04-01 14:56:13.388 Number of results in first chunk: 3\n"
     ]
    }
   ],
   "source": [
    "# Initialize connection.\n",
    "# Uses st.cache_resource to only run once.\n",
    "@st.cache_resource\n",
    "def init_connection():\n",
    "    return snowflake.connector.connect(\n",
    "        **st.secrets[\"snowflake\"], client_session_keep_alive=True\n",
    "    )\n",
    "\n",
    "conn = init_connection()\n",
    "\n",
    "# Perform query.\n",
    "# Uses st.cache_data to only rerun when the query changes or after 10 min.\n",
    "@st.cache_data(ttl=600)\n",
    "def run_query(query):\n",
    "    with conn.cursor() as cur:\n",
    "        cur.execute(query)\n",
    "        return cur.fetchall()\n",
    "\n",
    "rows = run_query(\"SELECT * from mytable;\")\n",
    "\n",
    "# Print results.\n",
    "for row in rows:\n",
    "    st.write(f\"{row[0]} has a :{row[1]}:\")"
   ]
  },
  {
   "cell_type": "code",
   "execution_count": null,
   "metadata": {},
   "outputs": [],
   "source": []
  }
 ],
 "metadata": {
  "kernelspec": {
   "display_name": "Python 3",
   "language": "python",
   "name": "python3"
  },
  "language_info": {
   "codemirror_mode": {
    "name": "ipython",
    "version": 3
   },
   "file_extension": ".py",
   "mimetype": "text/x-python",
   "name": "python",
   "nbconvert_exporter": "python",
   "pygments_lexer": "ipython3",
   "version": "3.7.4"
  },
  "orig_nbformat": 4
 },
 "nbformat": 4,
 "nbformat_minor": 2
}
